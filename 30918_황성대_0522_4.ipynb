{
 "cells": [
  {
   "cell_type": "markdown",
   "id": "74d40908",
   "metadata": {},
   "source": [
    "# 30918_황성대_0522_4"
   ]
  },
  {
   "cell_type": "markdown",
   "id": "d67f462f",
   "metadata": {},
   "source": [
    "# 1153 : 두 수의 대소 비교\n",
    "두 정수가 입력된다.  두 정수의 크기를 비교하여 왼쪽 수가 크면 > 를 출력, 오른쪽 수가 크면 < 를 출력, 같으면 = 을 출력하시오."
   ]
  },
  {
   "cell_type": "code",
   "execution_count": 1,
   "id": "f70cf573",
   "metadata": {},
   "outputs": [
    {
     "name": "stdout",
     "output_type": "stream",
     "text": [
      "2 6\n",
      "<\n"
     ]
    }
   ],
   "source": [
    "a, b = map(int, input().split())\n",
    "\n",
    "if a > b :\n",
    "    print(\">\")\n",
    "elif a < b :\n",
    "    print(\"<\")\n",
    "else :\n",
    "    print('=')"
   ]
  },
  {
   "cell_type": "markdown",
   "id": "54ed53cc",
   "metadata": {},
   "source": [
    "# 1154 : 큰수 - 작은수\n",
    "정수 두개가 입력으로 들어오면 큰수 - 작은수의 값을 출력하시오."
   ]
  },
  {
   "cell_type": "code",
   "execution_count": 3,
   "id": "87bce1b5",
   "metadata": {},
   "outputs": [
    {
     "name": "stdout",
     "output_type": "stream",
     "text": [
      "5 7\n",
      "2\n"
     ]
    }
   ],
   "source": [
    "a, b = map(int, input().split())\n",
    "\n",
    "if a < b :\n",
    "    c = b - a\n",
    "else :\n",
    "    c = a - b\n",
    "print(c)"
   ]
  },
  {
   "cell_type": "markdown",
   "id": "c955e287",
   "metadata": {},
   "source": [
    "# 1155 : 7의 배수\n",
    "인학이는 숫자 7을 좋아한다.\n",
    "\n",
    "어떤 정수가 입력되면 그 수가 7의 배수인지 확인하시오."
   ]
  },
  {
   "cell_type": "code",
   "execution_count": 10,
   "id": "03ae4943",
   "metadata": {},
   "outputs": [
    {
     "name": "stdout",
     "output_type": "stream",
     "text": [
      "9\n",
      "not multiple\n"
     ]
    }
   ],
   "source": [
    "a = int(input())\n",
    "\n",
    "if a % 7 == 0 :\n",
    "    print('multiple')\n",
    "else : \n",
    "    print('not multiple')"
   ]
  },
  {
   "cell_type": "markdown",
   "id": "10edcf16",
   "metadata": {},
   "source": [
    "# 1156 : 홀수 짝수 구별\n",
    "용준이와 봉찬이는 공기 놀이로 내기를 하였다.\n",
    "\n",
    "만약 홀수개의 돌을 쥐게 되면 용준이가 이기게 되고, 짝수개의 돌을 쥐게 되면 봉찬이가 이기는 것으로 룰을 정하였다.\n",
    "\n",
    " \n",
    "\n",
    "어떤 자연수가 입력되면  홀수이면 \"odd\"을 출력하고, 짝수이면 \"even\"을 출력하시오."
   ]
  },
  {
   "cell_type": "code",
   "execution_count": 11,
   "id": "8dabe1ae",
   "metadata": {},
   "outputs": [
    {
     "name": "stdout",
     "output_type": "stream",
     "text": [
      "5\n",
      "odd\n"
     ]
    }
   ],
   "source": [
    "a = int(input())\n",
    "\n",
    "if a % 2 == 0 :\n",
    "    print(\"even\")\n",
    "else :\n",
    "    print('odd')"
   ]
  },
  {
   "cell_type": "markdown",
   "id": "59c96e25",
   "metadata": {},
   "source": [
    "# 1157 : 특별한 공 던지기 1\n",
    "\n",
    "슬기는 체육 선생님과 공던지기로 아이스크림 내기를 하게 됐다.\n",
    "\n",
    "공을 던져서 50m ~ 60m 사이에 공이 들어가면 슬기가 이기게 되고, 그 외에 공이 떨어지면 체육선생님이 이기게 룰을 정했다.\n",
    "\n",
    "슬기가 던진 공의 위치가 입력으로 주어지면 50이상 60이하이면 \"win\"을 출력하고, 그 외에는 \"lose\"를 출력하시오."
   ]
  },
  {
   "cell_type": "code",
   "execution_count": 13,
   "id": "aaea6c47",
   "metadata": {},
   "outputs": [
    {
     "name": "stdout",
     "output_type": "stream",
     "text": [
      "50.213\n",
      "win\n"
     ]
    }
   ],
   "source": [
    "a = float(input())\n",
    "\n",
    "if a >= 50 and a <= 60 :\n",
    "    print(\"win\")\n",
    "else :\n",
    "    print(\"lose\")\n"
   ]
  },
  {
   "cell_type": "markdown",
   "id": "f3cd31ee",
   "metadata": {},
   "source": [
    "# 1158 : 특별한 공 던지기 2\n",
    "슬기는 지난 번 공던지기에서 져서 아이스크림을 사게되었다.\n",
    "\n",
    "얼마 뒤 열받은 슬기는 체육 선생님에게 다시 한번 공던지기를 하여 아이스크림 내기를 하자고 제안하였다.\n",
    "\n",
    "그런데 이번에는 불리한 슬기가 다음 룰을 제안하였다.\n",
    "```\n",
    "1. 공이 30m~40m나 60m~70m 에 들어오면 슬기가 이김.\n",
    "\n",
    "2. 그 외의 구간에 떨어지면 체육선생님이 이김.\n",
    "```\n",
    "슬기가 던진 공의 위치가 입력으로 주어지면 슬기가 이기는 구간에는 \"win\"을 출력하고, 그 외에는 \"lose\"를 출력하시오."
   ]
  },
  {
   "cell_type": "code",
   "execution_count": 14,
   "id": "43cf8d44",
   "metadata": {},
   "outputs": [
    {
     "name": "stdout",
     "output_type": "stream",
     "text": [
      "50\n",
      "lose\n"
     ]
    }
   ],
   "source": [
    "n = int(input())\n",
    "\n",
    "if 30 <= n <= 40 or 60 <= n <= 70 :\n",
    "    print('win')\n",
    "else :\n",
    "    print('lose')"
   ]
  },
  {
   "cell_type": "markdown",
   "id": "62ebfea0",
   "metadata": {},
   "source": [
    "# 1159 : 특별한 공 던지기 3\n",
    "슬기는 지난 번에도 공던지기에 져서 아이스크림을 사게되었다.\n",
    "\n",
    "슬기는 이미 돈이 다 떨어져서 현량이에게 돈을 빌린 상태이다.\n",
    "\n",
    "이번에는 슬기가 또 다른 조건을 내걸고 체육 선생님에게 도전하게 되었다. \n",
    "\n",
    "1. 공의 위치가 50m~70m이면 슬기가 이김.\n",
    "\n",
    "또는\n",
    "\n",
    "2. 공의 위치가 6의 배수이면 슬기가 이김. \n",
    "\n",
    "슬기가 던진 공의 위치가 입력으로 주어지면 슬기가 이기는 구간에는 \"win\"을 출력하고, 그 외에는 \"lose\"를 출력하시오."
   ]
  },
  {
   "cell_type": "code",
   "execution_count": 15,
   "id": "fa62e78c",
   "metadata": {},
   "outputs": [
    {
     "name": "stdout",
     "output_type": "stream",
     "text": [
      "30\n",
      "win\n"
     ]
    }
   ],
   "source": [
    "n = int(input())\n",
    "\n",
    "if 50 <= n <= 70 or n % 6 == 0 :\n",
    "    print(\"win\")\n",
    "else :\n",
    "    print('lose')"
   ]
  },
  {
   "cell_type": "code",
   "execution_count": null,
   "id": "c146b42d",
   "metadata": {},
   "outputs": [],
   "source": []
  }
 ],
 "metadata": {
  "kernelspec": {
   "display_name": "Python 3 (ipykernel)",
   "language": "python",
   "name": "python3"
  },
  "language_info": {
   "codemirror_mode": {
    "name": "ipython",
    "version": 3
   },
   "file_extension": ".py",
   "mimetype": "text/x-python",
   "name": "python",
   "nbconvert_exporter": "python",
   "pygments_lexer": "ipython3",
   "version": "3.9.7"
  }
 },
 "nbformat": 4,
 "nbformat_minor": 5
}
